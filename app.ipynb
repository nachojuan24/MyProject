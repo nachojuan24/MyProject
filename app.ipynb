{
 "cells": [
  {
   "cell_type": "code",
   "execution_count": 1,
   "metadata": {
    "colab": {
     "base_uri": "https://localhost:8080/"
    },
    "executionInfo": {
     "elapsed": 40322,
     "status": "ok",
     "timestamp": 1757318955369,
     "user": {
      "displayName": "Ignacio J. Juan",
      "userId": "17921167738250848998"
     },
     "user_tz": -120
    },
    "id": "N2HcUocZtmuM",
    "outputId": "c412a5b8-c115-44bd-cc6c-47c396b2407d"
   },
   "outputs": [
    {
     "name": "stdout",
     "output_type": "stream",
     "text": [
      "Mounted at /content/drive\n"
     ]
    }
   ],
   "source": [
    "from google.colab import drive\n",
    "drive.mount('/content/drive')"
   ]
  },
  {
   "cell_type": "markdown",
   "metadata": {
    "id": "i4QDM7R_aBH-"
   },
   "source": [
    "## Install a bunch of packages"
   ]
  },
  {
   "cell_type": "code",
   "execution_count": 2,
   "metadata": {
    "colab": {
     "base_uri": "https://localhost:8080/"
    },
    "executionInfo": {
     "elapsed": 28961,
     "status": "ok",
     "timestamp": 1757318989692,
     "user": {
      "displayName": "Ignacio J. Juan",
      "userId": "17921167738250848998"
     },
     "user_tz": -120
    },
    "id": "HJ3OHpZeu1vB",
    "outputId": "da675a73-3233-4ca2-fa23-d60300c25505"
   },
   "outputs": [
    {
     "name": "stdout",
     "output_type": "stream",
     "text": [
      "Requirement already satisfied: flask in /usr/local/lib/python3.12/dist-packages (3.1.2)\n",
      "Requirement already satisfied: blinker>=1.9.0 in /usr/local/lib/python3.12/dist-packages (from flask) (1.9.0)\n",
      "Requirement already satisfied: click>=8.1.3 in /usr/local/lib/python3.12/dist-packages (from flask) (8.2.1)\n",
      "Requirement already satisfied: itsdangerous>=2.2.0 in /usr/local/lib/python3.12/dist-packages (from flask) (2.2.0)\n",
      "Requirement already satisfied: jinja2>=3.1.2 in /usr/local/lib/python3.12/dist-packages (from flask) (3.1.6)\n",
      "Requirement already satisfied: markupsafe>=2.1.1 in /usr/local/lib/python3.12/dist-packages (from flask) (3.0.2)\n",
      "Requirement already satisfied: werkzeug>=3.1.0 in /usr/local/lib/python3.12/dist-packages (from flask) (3.1.3)\n",
      "Collecting flask-ngrok\n",
      "  Downloading flask_ngrok-0.0.25-py3-none-any.whl.metadata (1.8 kB)\n",
      "Requirement already satisfied: Flask>=0.8 in /usr/local/lib/python3.12/dist-packages (from flask-ngrok) (3.1.2)\n",
      "Requirement already satisfied: requests in /usr/local/lib/python3.12/dist-packages (from flask-ngrok) (2.32.4)\n",
      "Requirement already satisfied: blinker>=1.9.0 in /usr/local/lib/python3.12/dist-packages (from Flask>=0.8->flask-ngrok) (1.9.0)\n",
      "Requirement already satisfied: click>=8.1.3 in /usr/local/lib/python3.12/dist-packages (from Flask>=0.8->flask-ngrok) (8.2.1)\n",
      "Requirement already satisfied: itsdangerous>=2.2.0 in /usr/local/lib/python3.12/dist-packages (from Flask>=0.8->flask-ngrok) (2.2.0)\n",
      "Requirement already satisfied: jinja2>=3.1.2 in /usr/local/lib/python3.12/dist-packages (from Flask>=0.8->flask-ngrok) (3.1.6)\n",
      "Requirement already satisfied: markupsafe>=2.1.1 in /usr/local/lib/python3.12/dist-packages (from Flask>=0.8->flask-ngrok) (3.0.2)\n",
      "Requirement already satisfied: werkzeug>=3.1.0 in /usr/local/lib/python3.12/dist-packages (from Flask>=0.8->flask-ngrok) (3.1.3)\n",
      "Requirement already satisfied: charset_normalizer<4,>=2 in /usr/local/lib/python3.12/dist-packages (from requests->flask-ngrok) (3.4.3)\n",
      "Requirement already satisfied: idna<4,>=2.5 in /usr/local/lib/python3.12/dist-packages (from requests->flask-ngrok) (3.10)\n",
      "Requirement already satisfied: urllib3<3,>=1.21.1 in /usr/local/lib/python3.12/dist-packages (from requests->flask-ngrok) (2.5.0)\n",
      "Requirement already satisfied: certifi>=2017.4.17 in /usr/local/lib/python3.12/dist-packages (from requests->flask-ngrok) (2025.8.3)\n",
      "Downloading flask_ngrok-0.0.25-py3-none-any.whl (3.1 kB)\n",
      "Installing collected packages: flask-ngrok\n",
      "Successfully installed flask-ngrok-0.0.25\n",
      "Collecting pyngrok\n",
      "  Downloading pyngrok-7.3.0-py3-none-any.whl.metadata (8.1 kB)\n",
      "Requirement already satisfied: PyYAML>=5.1 in /usr/local/lib/python3.12/dist-packages (from pyngrok) (6.0.2)\n",
      "Downloading pyngrok-7.3.0-py3-none-any.whl (25 kB)\n",
      "Installing collected packages: pyngrok\n",
      "Successfully installed pyngrok-7.3.0\n",
      "Collecting wtforms\n",
      "  Downloading wtforms-3.2.1-py3-none-any.whl.metadata (5.3 kB)\n",
      "Requirement already satisfied: markupsafe in /usr/local/lib/python3.12/dist-packages (from wtforms) (3.0.2)\n",
      "Downloading wtforms-3.2.1-py3-none-any.whl (152 kB)\n",
      "\u001b[2K   \u001b[90m━━━━━━━━━━━━━━━━━━━━━━━━━━━━━━━━━━━━━━━━\u001b[0m \u001b[32m152.5/152.5 kB\u001b[0m \u001b[31m5.0 MB/s\u001b[0m eta \u001b[36m0:00:00\u001b[0m\n",
      "\u001b[?25hInstalling collected packages: wtforms\n",
      "Successfully installed wtforms-3.2.1\n",
      "Collecting flask_wtf\n",
      "  Downloading flask_wtf-1.2.2-py3-none-any.whl.metadata (3.4 kB)\n",
      "Requirement already satisfied: flask in /usr/local/lib/python3.12/dist-packages (from flask_wtf) (3.1.2)\n",
      "Requirement already satisfied: itsdangerous in /usr/local/lib/python3.12/dist-packages (from flask_wtf) (2.2.0)\n",
      "Requirement already satisfied: wtforms in /usr/local/lib/python3.12/dist-packages (from flask_wtf) (3.2.1)\n",
      "Requirement already satisfied: blinker>=1.9.0 in /usr/local/lib/python3.12/dist-packages (from flask->flask_wtf) (1.9.0)\n",
      "Requirement already satisfied: click>=8.1.3 in /usr/local/lib/python3.12/dist-packages (from flask->flask_wtf) (8.2.1)\n",
      "Requirement already satisfied: jinja2>=3.1.2 in /usr/local/lib/python3.12/dist-packages (from flask->flask_wtf) (3.1.6)\n",
      "Requirement already satisfied: markupsafe>=2.1.1 in /usr/local/lib/python3.12/dist-packages (from flask->flask_wtf) (3.0.2)\n",
      "Requirement already satisfied: werkzeug>=3.1.0 in /usr/local/lib/python3.12/dist-packages (from flask->flask_wtf) (3.1.3)\n",
      "Downloading flask_wtf-1.2.2-py3-none-any.whl (12 kB)\n",
      "Installing collected packages: flask_wtf\n",
      "Successfully installed flask_wtf-1.2.2\n"
     ]
    }
   ],
   "source": [
    "!pip install flask\n",
    "!pip install flask-ngrok\n",
    "!pip install pyngrok\n",
    "!pip install wtforms\n",
    "!pip install flask_wtf"
   ]
  },
  {
   "cell_type": "markdown",
   "metadata": {
    "id": "C4cHDP_fbDv_"
   },
   "source": [
    "# Import necessary stuff"
   ]
  },
  {
   "cell_type": "code",
   "execution_count": 1,
   "metadata": {
    "executionInfo": {
     "elapsed": 45,
     "status": "ok",
     "timestamp": 1757320399486,
     "user": {
      "displayName": "Ignacio J. Juan",
      "userId": "17921167738250848998"
     },
     "user_tz": -120
    },
    "id": "S_FrjZMsuoNA"
   },
   "outputs": [],
   "source": [
    "import getpass\n",
    "import os\n",
    "import threading\n",
    "from pyngrok import ngrok, conf\n",
    "import socket"
   ]
  },
  {
   "cell_type": "code",
   "execution_count": 2,
   "metadata": {
    "executionInfo": {
     "elapsed": 7372,
     "status": "ok",
     "timestamp": 1757320407285,
     "user": {
      "displayName": "Ignacio J. Juan",
      "userId": "17921167738250848998"
     },
     "user_tz": -120
    },
    "id": "BZ2-Midguze1"
   },
   "outputs": [],
   "source": [
    "import tensorflow as tf\n",
    "import numpy as np\n",
    "from tensorflow.keras.preprocessing import image\n",
    "from PIL import Image\n",
    "import cv2\n",
    "from keras.models import load_model\n",
    "from flask import Flask, request, render_template\n",
    "from werkzeug.utils import secure_filename\n",
    "from tensorflow.keras.preprocessing.image import load_img, img_to_array"
   ]
  },
  {
   "cell_type": "code",
   "execution_count": 3,
   "metadata": {
    "colab": {
     "base_uri": "https://localhost:8080/"
    },
    "executionInfo": {
     "elapsed": 44,
     "status": "ok",
     "timestamp": 1757320407326,
     "user": {
      "displayName": "Ignacio J. Juan",
      "userId": "17921167738250848998"
     },
     "user_tz": -120
    },
    "id": "3hf2q__HvhcF",
    "outputId": "dff9913f-eaf2-4aee-93f0-0c6ed0c8d0ed"
   },
   "outputs": [
    {
     "name": "stdout",
     "output_type": "stream",
     "text": [
      "Enter your authtoken, which can be copied from https://dashboard.ngrok.com/get-started/your-authtoken\n"
     ]
    }
   ],
   "source": [
    "print(\"Enter your authtoken, which can be copied from https://dashboard.ngrok.com/get-started/your-authtoken\")\n",
    "conf.get_default().auth_token = '<your-authtoken>'"
   ]
  },
  {
   "cell_type": "markdown",
   "metadata": {
    "id": "trGaD51806fo"
   },
   "source": [
    "# Check whether the model is uploaded properly"
   ]
  },
  {
   "cell_type": "code",
   "execution_count": 19,
   "metadata": {
    "executionInfo": {
     "elapsed": 694,
     "status": "ok",
     "timestamp": 1757174421275,
     "user": {
      "displayName": "Ignacio J. Juan",
      "userId": "17921167738250848998"
     },
     "user_tz": -120
    },
    "id": "l11R5JT-vXSK"
   },
   "outputs": [],
   "source": [
    "path_model = '/content/drive/MyDrive/MyGitProject_B/model.keras'\n",
    "model =load_model(path_model)\n",
    "# print('Model loaded. Check http://127.0.0.1:5000/')\n",
    "\n",
    "labels = {0: 'Healthy', 1: 'Powdery', 2: 'Rust'}\n",
    "\n",
    "\n",
    "def getResult(image_path):\n",
    "    img = load_img(image_path, target_size=(225,225))\n",
    "    x = img_to_array(img)\n",
    "    x = x.astype('float32') / 255.\n",
    "    x = np.expand_dims(x, axis=0)\n",
    "    predictions = model.predict(x)[0]\n",
    "    return predictions"
   ]
  },
  {
   "cell_type": "code",
   "execution_count": 20,
   "metadata": {
    "colab": {
     "base_uri": "https://localhost:8080/"
    },
    "executionInfo": {
     "elapsed": 1452,
     "status": "ok",
     "timestamp": 1757174422724,
     "user": {
      "displayName": "Ignacio J. Juan",
      "userId": "17921167738250848998"
     },
     "user_tz": -120
    },
    "id": "iGdAEpilw1g1",
    "outputId": "a08113b5-a11f-4d4e-9746-10f008dbcac1"
   },
   "outputs": [
    {
     "name": "stdout",
     "output_type": "stream",
     "text": [
      "Using Colab cache for faster access to the 'plant-disease-recognition-dataset' dataset.\n",
      "Path to dataset files: /kaggle/input/plant-disease-recognition-dataset\n"
     ]
    }
   ],
   "source": [
    "import kagglehub\n",
    "\n",
    "# Download latest version\n",
    "path = kagglehub.dataset_download(\"rashikrahmanpritom/plant-disease-recognition-dataset\")\n",
    "\n",
    "print(\"Path to dataset files:\", path)"
   ]
  },
  {
   "cell_type": "code",
   "execution_count": 21,
   "metadata": {
    "executionInfo": {
     "elapsed": 18,
     "status": "ok",
     "timestamp": 1757174422743,
     "user": {
      "displayName": "Ignacio J. Juan",
      "userId": "17921167738250848998"
     },
     "user_tz": -120
    },
    "id": "jzF5Pnkwv2WC"
   },
   "outputs": [],
   "source": [
    "#Double-check whether or not the model was loaded properly\n",
    "\n",
    "from tensorflow.keras.preprocessing.image import load_img, img_to_array\n",
    "import numpy as np\n",
    "\n",
    "def preprocess_image(image_path, target_size=(225, 225)):\n",
    "    img = load_img(image_path, target_size=target_size)\n",
    "    x = img_to_array(img)\n",
    "    x = x.astype('float32') / 255.\n",
    "    x = np.expand_dims(x, axis=0)\n",
    "    return x"
   ]
  },
  {
   "cell_type": "code",
   "execution_count": 22,
   "metadata": {
    "executionInfo": {
     "elapsed": 85,
     "status": "ok",
     "timestamp": 1757174422831,
     "user": {
      "displayName": "Ignacio J. Juan",
      "userId": "17921167738250848998"
     },
     "user_tz": -120
    },
    "id": "v13PJDG_HTH_"
   },
   "outputs": [],
   "source": [
    "path_x = '/content/drive/MyDrive/Kaggle_API/8ddaa5a5caa5caa8.jpg'\n",
    "x = preprocess_image(path_x)"
   ]
  },
  {
   "cell_type": "code",
   "execution_count": 23,
   "metadata": {
    "colab": {
     "base_uri": "https://localhost:8080/"
    },
    "executionInfo": {
     "elapsed": 1333,
     "status": "ok",
     "timestamp": 1757174424178,
     "user": {
      "displayName": "Ignacio J. Juan",
      "userId": "17921167738250848998"
     },
     "user_tz": -120
    },
    "id": "OMvWjEHzw_Bc",
    "outputId": "dc33dd8f-c749-44f2-f580-ddfc0ff8aa51"
   },
   "outputs": [
    {
     "name": "stdout",
     "output_type": "stream",
     "text": [
      "\u001b[1m1/1\u001b[0m \u001b[32m━━━━━━━━━━━━━━━━━━━━\u001b[0m\u001b[37m\u001b[0m \u001b[1m1s\u001b[0m 830ms/step\n"
     ]
    },
    {
     "data": {
      "text/plain": [
       "array([0.91356665, 0.01016542, 0.07626793], dtype=float32)"
      ]
     },
     "execution_count": 23,
     "metadata": {},
     "output_type": "execute_result"
    }
   ],
   "source": [
    "predictions = model.predict(x)\n",
    "predictions[0]"
   ]
  },
  {
   "cell_type": "code",
   "execution_count": 24,
   "metadata": {
    "colab": {
     "base_uri": "https://localhost:8080/"
    },
    "executionInfo": {
     "elapsed": 277,
     "status": "ok",
     "timestamp": 1757174424459,
     "user": {
      "displayName": "Ignacio J. Juan",
      "userId": "17921167738250848998"
     },
     "user_tz": -120
    },
    "id": "ZT6XleqmHhO8",
    "outputId": "a2090247-450a-49c3-db78-b826636727b8"
   },
   "outputs": [
    {
     "name": "stdout",
     "output_type": "stream",
     "text": [
      "\u001b[1m1/1\u001b[0m \u001b[32m━━━━━━━━━━━━━━━━━━━━\u001b[0m\u001b[37m\u001b[0m \u001b[1m0s\u001b[0m 43ms/step\n"
     ]
    },
    {
     "data": {
      "text/plain": [
       "array([0.17800695, 0.79919195, 0.02280114], dtype=float32)"
      ]
     },
     "execution_count": 24,
     "metadata": {},
     "output_type": "execute_result"
    }
   ],
   "source": [
    "path_x = '/content/drive/MyDrive/Kaggle_API/80bc7d353e163e85.jpg'\n",
    "x = preprocess_image(path_x)\n",
    "predictions = model.predict(x)\n",
    "predictions[0]"
   ]
  },
  {
   "cell_type": "markdown",
   "metadata": {
    "id": "A4KkJJ7jyzVv"
   },
   "source": [
    "# The Application\n"
   ]
  },
  {
   "cell_type": "code",
   "execution_count": 4,
   "metadata": {
    "executionInfo": {
     "elapsed": 4,
     "status": "ok",
     "timestamp": 1757320408100,
     "user": {
      "displayName": "Ignacio J. Juan",
      "userId": "17921167738250848998"
     },
     "user_tz": -120
    },
    "id": "ie2i61kp4X2A"
   },
   "outputs": [],
   "source": [
    "from flask_ngrok import run_with_ngrok"
   ]
  },
  {
   "cell_type": "code",
   "execution_count": null,
   "metadata": {
    "colab": {
     "base_uri": "https://localhost:8080/"
    },
    "executionInfo": {
     "elapsed": 2222,
     "status": "ok",
     "timestamp": 1757320411345,
     "user": {
      "displayName": "Ignacio J. Juan",
      "userId": "17921167738250848998"
     },
     "user_tz": -120
    },
    "id": "8XH44LeDxGtE",
    "outputId": "009f1351-fe5a-4a4c-9555-08360cbf2d41"
   },
   "outputs": [
    {
     "name": "stdout",
     "output_type": "stream",
     "text": [
      " * ngrok tunnel \"https://656c2045f1a8.ngrok-free.app\" -> \"http://127.0.0.1:5000/\"\n"
     ]
    }
   ],
   "source": [
    "app = Flask(__name__, static_folder='/content/drive/MyDrive/MyGitProject_B/static',\n",
    "            template_folder='/content/drive/MyDrive/MyGitProject_B/templates')\n",
    "# run_with_ngrok(app)\n",
    "\n",
    "# Open a ngrok tunnel to the HTTP server\n",
    "public_url = ngrok.connect(5000).public_url\n",
    "print(\" * ngrok tunnel \\\"{}\\\" -> \\\"http://127.0.0.1:{}/\\\"\".format(public_url, 5000))\n",
    "\n",
    "# Update any base URLs to use the public ngrok URL\n",
    "app.config[\"BASE_URL\"] = public_url\n",
    "\n",
    "path_model = '/content/drive/MyDrive/MyGitProject_B/model.keras'\n",
    "model =load_model(path_model)\n",
    "# print('Model loaded. Check http://127.0.0.1:5000/')\n",
    "\n",
    "labels = {0: 'Healthy', 1: 'Powdery', 2: 'Rust'}\n",
    "\n",
    "\n",
    "def getResult(image_path):\n",
    "    img = load_img(image_path, target_size=(225,225))\n",
    "    x = img_to_array(img)\n",
    "    x = x.astype('float32') / 255.\n",
    "    x = np.expand_dims(x, axis=0)\n",
    "    predictions = model.predict(x)[0]\n",
    "    return predictions\n",
    "\n",
    "\n",
    "@app.route('/', methods=['GET'])\n",
    "def index():\n",
    "    return render_template('index.html')\n",
    "\n",
    "\n",
    "@app.route('/predict', methods=['GET', 'POST'])\n",
    "def upload():\n",
    "    if request.method == 'POST':\n",
    "        f = request.files['file']\n",
    "\n",
    "        basepath = '/content/drive/MyDrive/MyGitProject_B'\n",
    "\n",
    "        folder_path = os.path.join(basepath, 'uploads')\n",
    "        if not os.path.exists(folder_path):\n",
    "            os.makedirs(folder_path)\n",
    "\n",
    "        file_path = os.path.join(\n",
    "            folder_path, secure_filename(f.filename))\n",
    "        f.save(file_path)\n",
    "\n",
    "        predictions = getResult(file_path)\n",
    "        predicted_label = labels[np.argmax(predictions)]\n",
    "\n",
    "        return str(predicted_label)\n",
    "    return\n",
    "\n",
    "# Start the Flask server in a new thread\n",
    "threading.Thread(target=app.run, kwargs={\"use_reloader\": False}).start()"
   ]
  },
  {
   "cell_type": "code",
   "execution_count": 26,
   "metadata": {
    "colab": {
     "base_uri": "https://localhost:8080/"
    },
    "executionInfo": {
     "elapsed": 10,
     "status": "ok",
     "timestamp": 1757174425990,
     "user": {
      "displayName": "Ignacio J. Juan",
      "userId": "17921167738250848998"
     },
     "user_tz": -120
    },
    "id": "lSv7ZW_MGlVr",
    "outputId": "52ae36cf-34c2-481d-cf47-10afabbfa257"
   },
   "outputs": [
    {
     "name": "stdout",
     "output_type": "stream",
     "text": [
      " * Debug mode: off\n"
     ]
    }
   ],
   "source": []
  }
 ],
 "metadata": {
  "accelerator": "GPU",
  "colab": {
   "authorship_tag": "ABX9TyN8kImynBK7216pn8NQr5Zv",
   "collapsed_sections": [
    "i4QDM7R_aBH-",
    "trGaD51806fo",
    "A4KkJJ7jyzVv"
   ],
   "gpuType": "T4",
   "provenance": []
  },
  "kernelspec": {
   "display_name": "Python 3",
   "name": "python3"
  },
  "language_info": {
   "name": "python"
  }
 },
 "nbformat": 4,
 "nbformat_minor": 0
}
